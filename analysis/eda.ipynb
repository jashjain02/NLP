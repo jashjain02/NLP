{
  "cells": [
    {
      "cell_type": "markdown",
      "metadata": {},
      "source": [
        "### EDA: Sentiment vs Market Returns\n",
        "\n",
        "This notebook explores relationships between daily sentiment and equity returns.\n",
        "\n",
        "- Loads processed features for a chosen ticker\n",
        "- Visualizes price vs sentiment, sentiment vs next-day return\n",
        "- Computes correlations, cross-correlations, and Granger causality\n",
        "- Saves figures to `reports/figs/` and summaries to `reports/`\n",
        "\n"
      ]
    },
    {
      "cell_type": "code",
      "execution_count": null,
      "metadata": {},
      "outputs": [],
      "source": [
        "from pathlib import Path\n",
        "import numpy as np\n",
        "import pandas as pd\n",
        "import matplotlib.pyplot as plt\n",
        "import seaborn as sns\n",
        "from scipy import stats\n",
        "from statsmodels.tsa.stattools import ccf, grangercausalitytests\n",
        "\n",
        "PROC_DIR = Path.cwd().parent / 'data' / 'processed'\n",
        "REPORTS_DIR = Path.cwd().parent / 'reports'\n",
        "FIGS_DIR = REPORTS_DIR / 'figs'\n",
        "FIGS_DIR.mkdir(parents=True, exist_ok=True)\n",
        "REPORTS_DIR.mkdir(parents=True, exist_ok=True)\n",
        "\n",
        "ticker = 'AAPL'  # change here\n",
        "path = PROC_DIR / f'features_{ticker}.parquet'\n",
        "if path.exists():\n",
        "    df = pd.read_parquet(path)\n",
        "else:\n",
        "    # synthetic fallback\n",
        "    n = 120\n",
        "    dates = pd.date_range('2024-01-01', periods=n, freq='B')\n",
        "    rng = np.random.default_rng(42)\n",
        "    sent = rng.normal(0, 0.1, size=n).cumsum() / 5\n",
        "    returns = rng.normal(0, 0.01, size=n) + 0.2 * np.concatenate([[0], np.diff(sent)])\n",
        "    prices = 100 * (1 + pd.Series(returns, index=dates)).cumprod()\n",
        "    df = pd.DataFrame({\n",
        "        'date': dates,\n",
        "        'adj_close': prices,\n",
        "        'daily_mean_sentiment': pd.Series(sent, index=dates).rolling(3, min_periods=1).mean(),\n",
        "        'return': returns,\n",
        "        'target_return_1d': pd.Series(returns, index=dates).shift(-1),\n",
        "    })\n",
        "\n",
        "# Ensure required columns\n",
        "if 'target_return_1d' not in df.columns and 'return' in df.columns:\n",
        "    df = df.sort_values('date').reset_index(drop=True)\n",
        "    df['target_return_1d'] = df['return'].shift(-1)\n",
        "\n",
        "df.head()\n"
      ]
    },
    {
      "cell_type": "code",
      "execution_count": null,
      "metadata": {},
      "outputs": [],
      "source": [
        "# Dual-axis plot\n",
        "fig, ax1 = plt.subplots(figsize=(10, 5))\n",
        "ax2 = ax1.twinx()\n",
        "ax1.plot(df['date'], df['adj_close'], color='tab:blue', label='Adj Close')\n",
        "ax2.plot(df['date'], df['daily_mean_sentiment'], color='tab:orange', alpha=0.7, label='Daily Sentiment')\n",
        "ax1.set_xlabel('Date')\n",
        "ax1.set_ylabel('Adj Close', color='tab:blue')\n",
        "ax2.set_ylabel('Daily Sentiment', color='tab:orange')\n",
        "ax1.set_title(f\"{ticker}: Adjusted Close vs Daily Sentiment\")\n",
        "fig.tight_layout()\n",
        "\n",
        "out = FIGS_DIR / f\"{ticker}_dual_axis.png\"\n",
        "fig.savefig(out, dpi=150)\n",
        "out\n"
      ]
    },
    {
      "cell_type": "code",
      "execution_count": null,
      "metadata": {},
      "outputs": [],
      "source": [
        "# Scatter with regression and Pearson stats\n",
        "x = df['daily_mean_sentiment']\n",
        "y = df['target_return_1d']\n",
        "mask = x.notna() & y.notna()\n",
        "r, p = (stats.pearsonr(x[mask], y[mask]) if mask.sum() > 2 else (np.nan, np.nan))\n",
        "\n",
        "fig, ax = plt.subplots(figsize=(7, 5))\n",
        "sns.regplot(x=x, y=y, ax=ax, scatter_kws={'alpha':0.6})\n",
        "ax.set_xlabel('Daily Mean Sentiment')\n",
        "ax.set_ylabel('Next-day Return')\n",
        "ax.set_title(f\"{ticker}: Sentiment vs Next-day Return\\nPearson r={r:.3f}, p={p:.3g}\")\n",
        "fig.tight_layout()\n",
        "\n",
        "out = FIGS_DIR / f\"{ticker}_scatter_fit.png\"\n",
        "fig.savefig(out, dpi=150)\n",
        "\n",
        "r, p, out\n"
      ]
    },
    {
      "cell_type": "code",
      "execution_count": null,
      "metadata": {},
      "outputs": [],
      "source": [
        "# Correlation heatmap\n",
        "cols = ['adj_close','daily_mean_sentiment','return','target_return_1d']\n",
        "cols = [c for c in cols if c in df.columns]\n",
        "fig, ax = plt.subplots(figsize=(6,5))\n",
        "sns.heatmap(df[cols].corr(), annot=True, fmt='.2f', cmap='coolwarm', ax=ax)\n",
        "ax.set_title(f\"{ticker}: Correlation Heatmap\")\n",
        "fig.tight_layout()\n",
        "\n",
        "out = FIGS_DIR / f\"{ticker}_corr_heatmap.png\"\n",
        "fig.savefig(out, dpi=150)\n",
        "out\n"
      ]
    },
    {
      "cell_type": "code",
      "execution_count": null,
      "metadata": {},
      "outputs": [],
      "source": [
        "# Pearson & Spearman correlations\n",
        "rows = []\n",
        "for col in ['return','target_return_1d']:\n",
        "    if col not in df.columns:\n",
        "        continue\n",
        "    x = df['daily_mean_sentiment']\n",
        "    y = df[col]\n",
        "    mask = x.notna() & y.notna()\n",
        "    if mask.sum() > 2:\n",
        "        r, p = stats.pearsonr(x[mask], y[mask])\n",
        "        rho, ps = stats.spearmanr(x[mask], y[mask])\n",
        "    else:\n",
        "        r = p = rho = ps = np.nan\n",
        "    rows.append({'metric': f'sentiment vs {col}', 'pearson_r': r, 'pearson_p': p, 'spearman_rho': rho, 'spearman_p': ps})\n",
        "\n",
        "corr_df = pd.DataFrame(rows)\n",
        "corr_df\n"
      ]
    },
    {
      "cell_type": "code",
      "execution_count": null,
      "metadata": {},
      "outputs": [],
      "source": [
        "# Cross-correlation function across lags -10..+10\n",
        "x = df['daily_mean_sentiment'].fillna(0).values\n",
        "y = df['return'].fillna(0).values if 'return' in df.columns else df['target_return_1d'].fillna(0).values\n",
        "vals = ccf(x - x.mean(), y - y.mean(), adjusted=False)\n",
        "max_lag = 10\n",
        "lags = np.arange(len(vals))[: 2*max_lag + 1]\n",
        "vals = vals[: 2*max_lag + 1]\n",
        "lags = lags - max_lag\n",
        "best_idx = int(np.nanargmax(np.abs(vals)))\n",
        "best_lag = int(lags[best_idx])\n",
        "\n",
        "fig, ax = plt.subplots(figsize=(8,4))\n",
        "ax.bar(lags, vals, color='tab:purple')\n",
        "ax.axvline(0, color='black', linewidth=1)\n",
        "ax.set_xlabel('Lag (sentiment leads +)')\n",
        "ax.set_ylabel('Cross-correlation')\n",
        "ax.set_title(f'{ticker}: CCF (max at lag {best_lag})')\n",
        "fig.tight_layout()\n",
        "\n",
        "out = FIGS_DIR / f\"{ticker}_ccf.png\"\n",
        "fig.savefig(out, dpi=150)\n",
        "\n",
        "best_lag, out\n"
      ]
    },
    {
      "cell_type": "code",
      "execution_count": null,
      "metadata": {},
      "outputs": [],
      "source": [
        "# Granger causality tests (lags 1..5)\n",
        "data = df[['return','daily_mean_sentiment']].dropna() if 'return' in df.columns else df[['target_return_1d','daily_mean_sentiment']].dropna()\n",
        "res = grangercausalitytests(data, maxlag=5, verbose=False)\n",
        "lines = [\"Granger Causality: daily_mean_sentiment -> returns\"]\n",
        "for lag in range(1, 6):\n",
        "    test = res[lag][0]\n",
        "    lines.append(f\"lag={lag}: p-values: \" + \", \".join(f\"{k}={v[1]:.3g}\" for k,v in test.items()))\n",
        "\n",
        "text_path = REPORTS_DIR / f'granger_{ticker}.txt'\n",
        "with open(text_path, 'w', encoding='utf-8') as f:\n",
        "    f.write(\"\\n\".join(lines) + \"\\n\")\n",
        "\n",
        "text_path\n"
      ]
    },
    {
      "cell_type": "markdown",
      "metadata": {},
      "source": [
        "#### Interpretation notes\n",
        "\n",
        "- Correlations: Report Pearson and Spearman; small |r| with high p-values suggests weak linear/monotonic relationships.\n",
        "- Cross-correlation: Positive lag peak suggests sentiment leads returns by that many days; negative lag means returns lead sentiment.\n",
        "- Granger causality: If p-values (ssr_ftest/ssr_chi2test) < 0.05 at some lags, we have evidence that sentiment helps predict returns at those horizons.\n",
        "\n"
      ]
    }
  ],
  "metadata": {
    "language_info": {
      "name": "python"
    }
  },
  "nbformat": 4,
  "nbformat_minor": 2
}
